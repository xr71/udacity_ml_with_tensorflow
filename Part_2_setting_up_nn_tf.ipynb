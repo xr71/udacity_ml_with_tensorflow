{
 "cells": [
  {
   "cell_type": "code",
   "execution_count": 1,
   "metadata": {},
   "outputs": [],
   "source": [
    "import tensorflow as tf\n",
    "import numpy as np"
   ]
  },
  {
   "cell_type": "code",
   "execution_count": 2,
   "metadata": {},
   "outputs": [],
   "source": [
    "import tensorflow_datasets as tfd"
   ]
  },
  {
   "cell_type": "code",
   "execution_count": 3,
   "metadata": {},
   "outputs": [
    {
     "name": "stdout",
     "output_type": "stream",
     "text": [
      "\u001b[1mDownloading and preparing dataset mnist (11.06 MiB) to /home/musicalxu/tensorflow_datasets/mnist/3.0.0...\u001b[0m\n"
     ]
    },
    {
     "name": "stderr",
     "output_type": "stream",
     "text": [
      "WARNING:absl:Dataset mnist is hosted on GCS. It will automatically be downloaded to your\n",
      "local data directory. If you'd instead prefer to read directly from our public\n",
      "GCS bucket (recommended if you're running on GCP), you can instead set\n",
      "data_dir=gs://tfds-data/datasets.\n",
      "\n"
     ]
    },
    {
     "data": {
      "application/vnd.jupyter.widget-view+json": {
       "model_id": "ad02cdb1f014438ea9ddcd3adda06499",
       "version_major": 2,
       "version_minor": 0
      },
      "text/plain": [
       "HBox(children=(FloatProgress(value=0.0, description='Dl Completed...', max=4.0, style=ProgressStyle(descriptio…"
      ]
     },
     "metadata": {},
     "output_type": "display_data"
    },
    {
     "name": "stdout",
     "output_type": "stream",
     "text": [
      "\n",
      "\n",
      "\u001b[1mDataset mnist downloaded and prepared to /home/musicalxu/tensorflow_datasets/mnist/3.0.0. Subsequent calls will reuse this data.\u001b[0m\n"
     ]
    }
   ],
   "source": [
    "data_all = tfd.load('mnist', split='train', with_info=True, as_supervised=True)"
   ]
  },
  {
   "cell_type": "code",
   "execution_count": 4,
   "metadata": {},
   "outputs": [
    {
     "data": {
      "text/plain": [
       "(<DatasetV1Adapter shapes: ((28, 28, 1), ()), types: (tf.uint8, tf.int64)>,\n",
       " tfds.core.DatasetInfo(\n",
       "     name='mnist',\n",
       "     version=3.0.0,\n",
       "     description='The MNIST database of handwritten digits.',\n",
       "     homepage='http://yann.lecun.com/exdb/mnist/',\n",
       "     features=FeaturesDict({\n",
       "         'image': Image(shape=(28, 28, 1), dtype=tf.uint8),\n",
       "         'label': ClassLabel(shape=(), dtype=tf.int64, num_classes=10),\n",
       "     }),\n",
       "     total_num_examples=70000,\n",
       "     splits={\n",
       "         'test': 10000,\n",
       "         'train': 60000,\n",
       "     },\n",
       "     supervised_keys=('image', 'label'),\n",
       "     citation=\"\"\"@article{lecun2010mnist,\n",
       "       title={MNIST handwritten digit database},\n",
       "       author={LeCun, Yann and Cortes, Corinna and Burges, CJ},\n",
       "       journal={ATT Labs [Online]. Available: http://yann. lecun. com/exdb/mnist},\n",
       "       volume={2},\n",
       "       year={2010}\n",
       "     }\"\"\",\n",
       "     redistribution_info=,\n",
       " ))"
      ]
     },
     "execution_count": 4,
     "metadata": {},
     "output_type": "execute_result"
    }
   ],
   "source": [
    "data_all"
   ]
  },
  {
   "cell_type": "code",
   "execution_count": 5,
   "metadata": {},
   "outputs": [
    {
     "data": {
      "text/plain": [
       "tuple"
      ]
     },
     "execution_count": 5,
     "metadata": {},
     "output_type": "execute_result"
    }
   ],
   "source": [
    "type(data_all)"
   ]
  },
  {
   "cell_type": "code",
   "execution_count": 6,
   "metadata": {},
   "outputs": [
    {
     "data": {
      "text/plain": [
       "2"
      ]
     },
     "execution_count": 6,
     "metadata": {},
     "output_type": "execute_result"
    }
   ],
   "source": [
    "len(data_all)"
   ]
  },
  {
   "cell_type": "code",
   "execution_count": 7,
   "metadata": {},
   "outputs": [
    {
     "data": {
      "text/plain": [
       "<DatasetV1Adapter shapes: ((28, 28, 1), ()), types: (tf.uint8, tf.int64)>"
      ]
     },
     "execution_count": 7,
     "metadata": {},
     "output_type": "execute_result"
    }
   ],
   "source": [
    "data_all[0]"
   ]
  },
  {
   "cell_type": "code",
   "execution_count": 8,
   "metadata": {},
   "outputs": [],
   "source": [
    "training_data = data_all[0]"
   ]
  },
  {
   "cell_type": "code",
   "execution_count": 10,
   "metadata": {},
   "outputs": [
    {
     "data": {
      "text/plain": [
       "tensorflow_datasets.core.dataset_info.DatasetInfo"
      ]
     },
     "execution_count": 10,
     "metadata": {},
     "output_type": "execute_result"
    }
   ],
   "source": [
    "type(data_all[1])"
   ]
  },
  {
   "cell_type": "code",
   "execution_count": 11,
   "metadata": {},
   "outputs": [
    {
     "data": {
      "text/plain": [
       "<DatasetV1Adapter shapes: ((28, 28, 1), ()), types: (tf.uint8, tf.int64)>"
      ]
     },
     "execution_count": 11,
     "metadata": {},
     "output_type": "execute_result"
    }
   ],
   "source": [
    "training_data.take(1)"
   ]
  },
  {
   "cell_type": "code",
   "execution_count": 14,
   "metadata": {},
   "outputs": [],
   "source": [
    "import matplotlib.pyplot as plt"
   ]
  },
  {
   "cell_type": "code",
   "execution_count": 19,
   "metadata": {},
   "outputs": [
    {
     "data": {
      "image/png": "[encoded data removed]",
      "text/plain": [
       "<Figure size 432x288 with 2 Axes>"
      ]
     },
     "metadata": {
      "needs_background": "light"
     },
     "output_type": "display_data"
    },
    {
     "name": "stdout",
     "output_type": "stream",
     "text": [
      "this is 4 label\n"
     ]
    }
   ],
   "source": [
    "for i, l in training_data.take(1):\n",
    "    image = i.numpy().squeeze()\n",
    "    label = l.numpy()\n",
    "    \n",
    "plt.imshow(image)\n",
    "plt.colorbar()\n",
    "plt.show()\n",
    "print(f\"this is {label} label\")"
   ]
  },
  {
   "cell_type": "code",
   "execution_count": 21,
   "metadata": {},
   "outputs": [
    {
     "data": {
      "image/png": "[encoded data removed]",
      "text/plain": [
       "<Figure size 432x288 with 2 Axes>"
      ]
     },
     "metadata": {
      "needs_background": "light"
     },
     "output_type": "display_data"
    }
   ],
   "source": [
    "plt.imshow(image, cmap=plt.cm.binary)\n",
    "plt.colorbar()\n",
    "plt.show()"
   ]
  },
  {
   "cell_type": "markdown",
   "metadata": {},
   "source": [
    "# Pipeline\n",
    "\n",
    "Creating a pipeline of preprocessing, batching, and using the training data for nn input"
   ]
  },
  {
   "cell_type": "code",
   "execution_count": 22,
   "metadata": {},
   "outputs": [],
   "source": [
    "def preprocess(image, label):\n",
    "    image = tf.cast(image, tf.float32)\n",
    "    image = image / 255\n",
    "    \n",
    "    return image, label"
   ]
  },
  {
   "cell_type": "code",
   "execution_count": 23,
   "metadata": {},
   "outputs": [],
   "source": [
    "batch_size = 64"
   ]
  },
  {
   "cell_type": "code",
   "execution_count": 24,
   "metadata": {},
   "outputs": [],
   "source": [
    "training_batches = training_data.shuffle(10000).batch(batch_size).map(preprocess).prefetch(1)"
   ]
  },
  {
   "cell_type": "code",
   "execution_count": 25,
   "metadata": {},
   "outputs": [
    {
     "data": {
      "text/plain": [
       "<DatasetV1Adapter shapes: ((None, 28, 28, 1), (None,)), types: (tf.float32, tf.int64)>"
      ]
     },
     "execution_count": 25,
     "metadata": {},
     "output_type": "execute_result"
    }
   ],
   "source": [
    "training_batches"
   ]
  },
  {
   "cell_type": "code",
   "execution_count": 26,
   "metadata": {},
   "outputs": [
    {
     "name": "stdout",
     "output_type": "stream",
     "text": [
      "The images in each batch have:\n",
      "• dtype: <dtype: 'float32'>\n",
      "• shape: (64, 28, 28, 1)\n",
      "\n",
      "There are a total of 64 image labels in this batch:\n",
      "[1 1 7 7 9 0 3 5 5 2 9 4 9 2 7 9 2 8 8 2 0 8 6 0 2 8 8 3 0 5 2 0 1 4 7 5 1\n",
      " 4 2 4 7 2 6 6 1 4 6 2 7 1 4 6 1 8 6 6 1 3 2 6 6 4 1 9]\n"
     ]
    }
   ],
   "source": [
    "for image_batch, label_batch in training_batches.take(1):\n",
    "    print('The images in each batch have:')\n",
    "    print('\\u2022 dtype:', image_batch.dtype) \n",
    "    print('\\u2022 shape:', image_batch.shape)\n",
    "  \n",
    "    print('\\nThere are a total of {} image labels in this batch:'.format(label_batch.numpy().size))\n",
    "    print(label_batch.numpy())"
   ]
  },
  {
   "cell_type": "code",
   "execution_count": 27,
   "metadata": {},
   "outputs": [
    {
     "data": {
      "image/png": "[encoded data removed]",
      "text/plain": [
       "<Figure size 432x288 with 2 Axes>"
      ]
     },
     "metadata": {
      "needs_background": "light"
     },
     "output_type": "display_data"
    },
    {
     "name": "stdout",
     "output_type": "stream",
     "text": [
      "The label of this image is: 4\n"
     ]
    }
   ],
   "source": [
    "# Take a single batch of images, and remove the color dimension by squeezing it\n",
    "for image_batch, label_batch in training_batches.take(1):\n",
    "    images = image_batch.numpy().squeeze()\n",
    "    labels = label_batch.numpy()\n",
    "\n",
    "# Plot the image\n",
    "plt.imshow(images[0], cmap = plt.cm.binary)\n",
    "plt.colorbar()\n",
    "plt.show()\n",
    "\n",
    "print('The label of this image is:', labels[0])"
   ]
  },
  {
   "cell_type": "markdown",
   "metadata": {},
   "source": [
    "# Build a NN\n",
    "\n",
    "Use Keras simple"
   ]
  },
  {
   "cell_type": "code",
   "execution_count": 29,
   "metadata": {},
   "outputs": [],
   "source": [
    "model = tf.keras.Sequential([\n",
    "    tf.keras.layers.Flatten(input_shape=(28,28,1)),\n",
    "    tf.keras.layers.Dense(256, activation='sigmoid'),\n",
    "    tf.keras.layers.Dense(10, activation='softmax')\n",
    "])"
   ]
  },
  {
   "cell_type": "code",
   "execution_count": 31,
   "metadata": {},
   "outputs": [
    {
     "name": "stdout",
     "output_type": "stream",
     "text": [
      "Model: \"sequential\"\n",
      "_________________________________________________________________\n",
      "Layer (type)                 Output Shape              Param #   \n",
      "=================================================================\n",
      "flatten_1 (Flatten)          (None, 784)               0         \n",
      "_________________________________________________________________\n",
      "dense_1 (Dense)              (None, 256)               200960    \n",
      "_________________________________________________________________\n",
      "dense_2 (Dense)              (None, 10)                2570      \n",
      "=================================================================\n",
      "Total params: 203,530\n",
      "Trainable params: 203,530\n",
      "Non-trainable params: 0\n",
      "_________________________________________________________________\n"
     ]
    }
   ],
   "source": [
    "model.summary()"
   ]
  },
  {
   "cell_type": "code",
   "execution_count": 32,
   "metadata": {},
   "outputs": [
    {
     "data": {
      "text/plain": [
       "[array([[-0.00400774,  0.02536055,  0.0355126 , ..., -0.06096906,\n",
       "          0.02078124,  0.0304903 ],\n",
       "        [ 0.00737519,  0.02330975, -0.06717972, ..., -0.05961721,\n",
       "         -0.06224908,  0.0628195 ],\n",
       "        [ 0.06015584, -0.01773078, -0.02753682, ..., -0.06705707,\n",
       "         -0.02722834,  0.0738643 ],\n",
       "        ...,\n",
       "        [ 0.00512218, -0.0456083 ,  0.02145705, ..., -0.01821176,\n",
       "          0.02243935, -0.03619374],\n",
       "        [ 0.05395952, -0.01854131, -0.04616326, ...,  0.05239514,\n",
       "         -0.05757678, -0.02755034],\n",
       "        [-0.02314337,  0.03747339,  0.0593354 , ...,  0.05326422,\n",
       "          0.03518826,  0.05881102]], dtype=float32),\n",
       " array([0., 0., 0., 0., 0., 0., 0., 0., 0., 0., 0., 0., 0., 0., 0., 0., 0.,\n",
       "        0., 0., 0., 0., 0., 0., 0., 0., 0., 0., 0., 0., 0., 0., 0., 0., 0.,\n",
       "        0., 0., 0., 0., 0., 0., 0., 0., 0., 0., 0., 0., 0., 0., 0., 0., 0.,\n",
       "        0., 0., 0., 0., 0., 0., 0., 0., 0., 0., 0., 0., 0., 0., 0., 0., 0.,\n",
       "        0., 0., 0., 0., 0., 0., 0., 0., 0., 0., 0., 0., 0., 0., 0., 0., 0.,\n",
       "        0., 0., 0., 0., 0., 0., 0., 0., 0., 0., 0., 0., 0., 0., 0., 0., 0.,\n",
       "        0., 0., 0., 0., 0., 0., 0., 0., 0., 0., 0., 0., 0., 0., 0., 0., 0.,\n",
       "        0., 0., 0., 0., 0., 0., 0., 0., 0., 0., 0., 0., 0., 0., 0., 0., 0.,\n",
       "        0., 0., 0., 0., 0., 0., 0., 0., 0., 0., 0., 0., 0., 0., 0., 0., 0.,\n",
       "        0., 0., 0., 0., 0., 0., 0., 0., 0., 0., 0., 0., 0., 0., 0., 0., 0.,\n",
       "        0., 0., 0., 0., 0., 0., 0., 0., 0., 0., 0., 0., 0., 0., 0., 0., 0.,\n",
       "        0., 0., 0., 0., 0., 0., 0., 0., 0., 0., 0., 0., 0., 0., 0., 0., 0.,\n",
       "        0., 0., 0., 0., 0., 0., 0., 0., 0., 0., 0., 0., 0., 0., 0., 0., 0.,\n",
       "        0., 0., 0., 0., 0., 0., 0., 0., 0., 0., 0., 0., 0., 0., 0., 0., 0.,\n",
       "        0., 0., 0., 0., 0., 0., 0., 0., 0., 0., 0., 0., 0., 0., 0., 0., 0.,\n",
       "        0.], dtype=float32),\n",
       " array([[ 0.09414448, -0.03910026,  0.00555497, ...,  0.14184538,\n",
       "         -0.03416358, -0.03594543],\n",
       "        [-0.12238066, -0.06161979, -0.14777453, ..., -0.12604663,\n",
       "          0.14978486, -0.00414942],\n",
       "        [-0.0197574 , -0.07689562,  0.04357402, ..., -0.06409635,\n",
       "          0.12590098,  0.13997346],\n",
       "        ...,\n",
       "        [ 0.09643252, -0.04895275,  0.03513707, ..., -0.12842612,\n",
       "          0.13473785, -0.02587176],\n",
       "        [-0.11603834,  0.09337123, -0.09887094, ..., -0.03090169,\n",
       "          0.02349554,  0.08100766],\n",
       "        [ 0.02496894, -0.09598625,  0.10029489, ...,  0.10147956,\n",
       "          0.03978612,  0.09127945]], dtype=float32),\n",
       " array([0., 0., 0., 0., 0., 0., 0., 0., 0., 0.], dtype=float32)]"
      ]
     },
     "execution_count": 32,
     "metadata": {},
     "output_type": "execute_result"
    }
   ],
   "source": [
    "model.get_weights()"
   ]
  },
  {
   "cell_type": "code",
   "execution_count": 33,
   "metadata": {},
   "outputs": [
    {
     "data": {
      "text/plain": [
       "[<tensorflow.python.keras.layers.core.Flatten at 0x7d874aa9e1d0>,\n",
       " <tensorflow.python.keras.layers.core.Dense at 0x7d874aa9ea90>,\n",
       " <tensorflow.python.keras.layers.core.Dense at 0x7d874a8a8090>]"
      ]
     },
     "execution_count": 33,
     "metadata": {},
     "output_type": "execute_result"
    }
   ],
   "source": [
    "model.layers"
   ]
  },
  {
   "cell_type": "code",
   "execution_count": 36,
   "metadata": {},
   "outputs": [
    {
     "name": "stdout",
     "output_type": "stream",
     "text": [
      "layer:\n",
      "\n",
      "-------------------------\n",
      "\n",
      "[]\n",
      "layer:\n",
      "\n",
      "-------------------------\n",
      "\n",
      "[array([[-0.00400774,  0.02536055,  0.0355126 , ..., -0.06096906,\n",
      "         0.02078124,  0.0304903 ],\n",
      "       [ 0.00737519,  0.02330975, -0.06717972, ..., -0.05961721,\n",
      "        -0.06224908,  0.0628195 ],\n",
      "       [ 0.06015584, -0.01773078, -0.02753682, ..., -0.06705707,\n",
      "        -0.02722834,  0.0738643 ],\n",
      "       ...,\n",
      "       [ 0.00512218, -0.0456083 ,  0.02145705, ..., -0.01821176,\n",
      "         0.02243935, -0.03619374],\n",
      "       [ 0.05395952, -0.01854131, -0.04616326, ...,  0.05239514,\n",
      "        -0.05757678, -0.02755034],\n",
      "       [-0.02314337,  0.03747339,  0.0593354 , ...,  0.05326422,\n",
      "         0.03518826,  0.05881102]], dtype=float32), array([0., 0., 0., 0., 0., 0., 0., 0., 0., 0., 0., 0., 0., 0., 0., 0., 0.,\n",
      "       0., 0., 0., 0., 0., 0., 0., 0., 0., 0., 0., 0., 0., 0., 0., 0., 0.,\n",
      "       0., 0., 0., 0., 0., 0., 0., 0., 0., 0., 0., 0., 0., 0., 0., 0., 0.,\n",
      "       0., 0., 0., 0., 0., 0., 0., 0., 0., 0., 0., 0., 0., 0., 0., 0., 0.,\n",
      "       0., 0., 0., 0., 0., 0., 0., 0., 0., 0., 0., 0., 0., 0., 0., 0., 0.,\n",
      "       0., 0., 0., 0., 0., 0., 0., 0., 0., 0., 0., 0., 0., 0., 0., 0., 0.,\n",
      "       0., 0., 0., 0., 0., 0., 0., 0., 0., 0., 0., 0., 0., 0., 0., 0., 0.,\n",
      "       0., 0., 0., 0., 0., 0., 0., 0., 0., 0., 0., 0., 0., 0., 0., 0., 0.,\n",
      "       0., 0., 0., 0., 0., 0., 0., 0., 0., 0., 0., 0., 0., 0., 0., 0., 0.,\n",
      "       0., 0., 0., 0., 0., 0., 0., 0., 0., 0., 0., 0., 0., 0., 0., 0., 0.,\n",
      "       0., 0., 0., 0., 0., 0., 0., 0., 0., 0., 0., 0., 0., 0., 0., 0., 0.,\n",
      "       0., 0., 0., 0., 0., 0., 0., 0., 0., 0., 0., 0., 0., 0., 0., 0., 0.,\n",
      "       0., 0., 0., 0., 0., 0., 0., 0., 0., 0., 0., 0., 0., 0., 0., 0., 0.,\n",
      "       0., 0., 0., 0., 0., 0., 0., 0., 0., 0., 0., 0., 0., 0., 0., 0., 0.,\n",
      "       0., 0., 0., 0., 0., 0., 0., 0., 0., 0., 0., 0., 0., 0., 0., 0., 0.,\n",
      "       0.], dtype=float32)]\n",
      "layer:\n",
      "\n",
      "-------------------------\n",
      "\n",
      "[array([[ 0.09414448, -0.03910026,  0.00555497, ...,  0.14184538,\n",
      "        -0.03416358, -0.03594543],\n",
      "       [-0.12238066, -0.06161979, -0.14777453, ..., -0.12604663,\n",
      "         0.14978486, -0.00414942],\n",
      "       [-0.0197574 , -0.07689562,  0.04357402, ..., -0.06409635,\n",
      "         0.12590098,  0.13997346],\n",
      "       ...,\n",
      "       [ 0.09643252, -0.04895275,  0.03513707, ..., -0.12842612,\n",
      "         0.13473785, -0.02587176],\n",
      "       [-0.11603834,  0.09337123, -0.09887094, ..., -0.03090169,\n",
      "         0.02349554,  0.08100766],\n",
      "       [ 0.02496894, -0.09598625,  0.10029489, ...,  0.10147956,\n",
      "         0.03978612,  0.09127945]], dtype=float32), array([0., 0., 0., 0., 0., 0., 0., 0., 0., 0.], dtype=float32)]\n"
     ]
    }
   ],
   "source": [
    "for l in model.layers:\n",
    "    print(\"layer:\")\n",
    "    print(\"\\n-------------------------\\n\")\n",
    "    print(l.get_weights())"
   ]
  },
  {
   "cell_type": "markdown",
   "metadata": {},
   "source": [
    "# Make a Prediction"
   ]
  },
  {
   "cell_type": "code",
   "execution_count": 39,
   "metadata": {},
   "outputs": [],
   "source": [
    "for image_batch, label_batch in training_batches.take(1):\n",
    "    ps = model.predict(image_batch)\n",
    "    labels = label_batch.numpy()"
   ]
  },
  {
   "cell_type": "code",
   "execution_count": 40,
   "metadata": {},
   "outputs": [
    {
     "data": {
      "text/plain": [
       "(numpy.ndarray, numpy.ndarray)"
      ]
     },
     "execution_count": 40,
     "metadata": {},
     "output_type": "execute_result"
    }
   ],
   "source": [
    "type(ps), type(labels)"
   ]
  },
  {
   "cell_type": "code",
   "execution_count": 54,
   "metadata": {},
   "outputs": [
    {
     "data": {
      "image/png": "[encoded data removed]",
      "text/plain": [
       "<Figure size 1152x720 with 2 Axes>"
      ]
     },
     "metadata": {
      "needs_background": "light"
     },
     "output_type": "display_data"
    }
   ],
   "source": [
    "fig, (ax1, ax2) = plt.subplots(figsize=(16,10), ncols=2)\n",
    "\n",
    "ax1.imshow(image_batch[0].numpy().squeeze())\n",
    "ax2.barh([i for i in range(0,10)], ps[0])\n",
    "plt.show()"
   ]
  },
  {
   "cell_type": "markdown",
   "metadata": {},
   "source": [
    "# Subclass"
   ]
  },
  {
   "cell_type": "code",
   "execution_count": 110,
   "metadata": {},
   "outputs": [],
   "source": [
    "class Network(tf.keras.Model):\n",
    "    def __init__(self, num_classes=2):\n",
    "        super().__init__()\n",
    "        \n",
    "        self.num_classes = num_classes\n",
    "        \n",
    "        self.input_layer = tf.keras.layers.Flatten()\n",
    "        self.layer1 = tf.keras.layers.Dense(256, activation='relu')\n",
    "        self.output_layer = tf.keras.layers.Dense(self.num_classes, activation='softmax')\n",
    "        \n",
    "    def call(self, input_tensor):\n",
    "        x = self.input_layer(input_tensor)\n",
    "        x = self.layer1(x)\n",
    "        x = self.output_layer(x)\n",
    "        \n",
    "        return x"
   ]
  },
  {
   "cell_type": "code",
   "execution_count": 116,
   "metadata": {},
   "outputs": [],
   "source": [
    "sub_model = Network(10)"
   ]
  },
  {
   "cell_type": "code",
   "execution_count": 117,
   "metadata": {},
   "outputs": [
    {
     "data": {
      "text/plain": [
       "<__main__.Network at 0x7d8749e12050>"
      ]
     },
     "execution_count": 117,
     "metadata": {},
     "output_type": "execute_result"
    }
   ],
   "source": [
    "sub_model"
   ]
  },
  {
   "cell_type": "code",
   "execution_count": 118,
   "metadata": {},
   "outputs": [],
   "source": [
    "sub_model.build((None,28,28,1))"
   ]
  },
  {
   "cell_type": "code",
   "execution_count": 119,
   "metadata": {},
   "outputs": [
    {
     "name": "stdout",
     "output_type": "stream",
     "text": [
      "Model: \"network_12\"\n",
      "_________________________________________________________________\n",
      "Layer (type)                 Output Shape              Param #   \n",
      "=================================================================\n",
      "flatten_13 (Flatten)         multiple                  0         \n",
      "_________________________________________________________________\n",
      "dense_15 (Dense)             multiple                  200960    \n",
      "_________________________________________________________________\n",
      "dense_16 (Dense)             multiple                  2570      \n",
      "=================================================================\n",
      "Total params: 203,530\n",
      "Trainable params: 203,530\n",
      "Non-trainable params: 0\n",
      "_________________________________________________________________\n"
     ]
    }
   ],
   "source": [
    "sub_model.summary()"
   ]
  },
  {
   "cell_type": "code",
   "execution_count": 120,
   "metadata": {},
   "outputs": [
    {
     "data": {
      "text/plain": [
       "<tf.Tensor: shape=(64, 10), dtype=float32, numpy=\n",
       "array([[0.03618556, 0.08190975, 0.04296701, 0.10118607, 0.06184451,\n",
       "        0.18813407, 0.19391471, 0.09650818, 0.06296536, 0.13438477],\n",
       "       [0.02365762, 0.11230487, 0.09429441, 0.08917363, 0.11988303,\n",
       "        0.18577515, 0.22267379, 0.02741772, 0.06340956, 0.06141016],\n",
       "       [0.03274168, 0.11726119, 0.07683506, 0.15084285, 0.11117047,\n",
       "        0.10897554, 0.09001315, 0.08050346, 0.0852052 , 0.14645147],\n",
       "       [0.10598525, 0.18615314, 0.05550483, 0.13400333, 0.08532229,\n",
       "        0.0673953 , 0.156647  , 0.07698315, 0.05340869, 0.07859705],\n",
       "       [0.0404057 , 0.11927224, 0.09710065, 0.14197138, 0.06694286,\n",
       "        0.10281438, 0.14253543, 0.06913603, 0.10479838, 0.11502305],\n",
       "       [0.08392303, 0.16727133, 0.05044739, 0.07863466, 0.09935042,\n",
       "        0.11189644, 0.16185455, 0.09879474, 0.08723549, 0.06059195],\n",
       "       [0.04203589, 0.15404826, 0.06495643, 0.1022786 , 0.10500933,\n",
       "        0.0867863 , 0.13359638, 0.08106958, 0.09804175, 0.13217752],\n",
       "       [0.03377505, 0.0877564 , 0.06219079, 0.09071542, 0.10456877,\n",
       "        0.17727609, 0.11770993, 0.09423065, 0.0684554 , 0.16332158],\n",
       "       [0.02639975, 0.20293304, 0.06253722, 0.13365723, 0.0723737 ,\n",
       "        0.09958146, 0.14792338, 0.04902198, 0.08628695, 0.11928535],\n",
       "       [0.07679614, 0.10373984, 0.1931377 , 0.08417079, 0.13963085,\n",
       "        0.09818611, 0.12958221, 0.02821117, 0.07242655, 0.0741186 ],\n",
       "       [0.05837248, 0.12522383, 0.04995156, 0.09681702, 0.06602687,\n",
       "        0.12963568, 0.10386124, 0.08022689, 0.11450703, 0.17537746],\n",
       "       [0.05378585, 0.09003969, 0.08895197, 0.09969931, 0.09047744,\n",
       "        0.11074354, 0.16762234, 0.12146089, 0.0471816 , 0.13003725],\n",
       "       [0.07103872, 0.11137967, 0.05821439, 0.07699037, 0.08477253,\n",
       "        0.12573166, 0.2109754 , 0.07316057, 0.09197014, 0.09576649],\n",
       "       [0.05295881, 0.13993318, 0.04373895, 0.0795946 , 0.1113847 ,\n",
       "        0.14566256, 0.19108635, 0.08834991, 0.06103347, 0.08625747],\n",
       "       [0.03352728, 0.10608931, 0.06731091, 0.11708649, 0.13330069,\n",
       "        0.14180219, 0.09361115, 0.0561564 , 0.07762904, 0.17348659],\n",
       "       [0.05306318, 0.15081201, 0.05778425, 0.10507507, 0.11360128,\n",
       "        0.11960722, 0.16129068, 0.08327179, 0.07617208, 0.07932237],\n",
       "       [0.04204968, 0.16219468, 0.08782326, 0.11830052, 0.06974857,\n",
       "        0.10050617, 0.14286812, 0.0338295 , 0.11478462, 0.12789483],\n",
       "       [0.0689177 , 0.09944382, 0.07713421, 0.12352201, 0.09034068,\n",
       "        0.11587563, 0.10856137, 0.0838026 , 0.07877805, 0.15362397],\n",
       "       [0.04205476, 0.12903568, 0.11389872, 0.08119445, 0.06297561,\n",
       "        0.09156352, 0.26294747, 0.07550226, 0.04930553, 0.09152199],\n",
       "       [0.05922448, 0.10512192, 0.12004373, 0.10074844, 0.08749594,\n",
       "        0.0816649 , 0.1608552 , 0.11640319, 0.05886959, 0.10957261],\n",
       "       [0.02958458, 0.13743371, 0.07089707, 0.10901573, 0.10453703,\n",
       "        0.12739766, 0.17638096, 0.07852964, 0.05732136, 0.10890228],\n",
       "       [0.04721883, 0.11567786, 0.113147  , 0.14373276, 0.09852972,\n",
       "        0.10784423, 0.13365787, 0.06725292, 0.05572831, 0.11721052],\n",
       "       [0.04824623, 0.15324715, 0.06132755, 0.13958663, 0.06926353,\n",
       "        0.08580674, 0.21236639, 0.06758038, 0.08691356, 0.07566189],\n",
       "       [0.05357847, 0.14396958, 0.12696859, 0.12092772, 0.09459136,\n",
       "        0.07897351, 0.1434177 , 0.05405999, 0.07928976, 0.10422328],\n",
       "       [0.04919171, 0.09848806, 0.08995144, 0.09759145, 0.07999856,\n",
       "        0.1162707 , 0.14796127, 0.07293778, 0.08002671, 0.16758233],\n",
       "       [0.0578839 , 0.11033867, 0.07297514, 0.18459807, 0.0772339 ,\n",
       "        0.10555738, 0.10657792, 0.08461556, 0.0724422 , 0.1277773 ],\n",
       "       [0.05771243, 0.14055744, 0.06574286, 0.21326505, 0.06079114,\n",
       "        0.07123189, 0.0670369 , 0.09944176, 0.07879562, 0.14542498],\n",
       "       [0.02302201, 0.23148423, 0.09457123, 0.1374755 , 0.07527734,\n",
       "        0.07417678, 0.10263781, 0.03289251, 0.07681455, 0.1516481 ],\n",
       "       [0.07043734, 0.11651772, 0.08383771, 0.10310691, 0.13118766,\n",
       "        0.09811772, 0.11745302, 0.0734314 , 0.07507972, 0.13083076],\n",
       "       [0.07368644, 0.13462532, 0.0672815 , 0.10217334, 0.08416352,\n",
       "        0.11044095, 0.10403375, 0.07221817, 0.12716028, 0.1242167 ],\n",
       "       [0.03682249, 0.15859719, 0.0590473 , 0.17060322, 0.09466405,\n",
       "        0.09086782, 0.12820353, 0.06695816, 0.08050523, 0.11373094],\n",
       "       [0.05203024, 0.18934798, 0.06474488, 0.10796289, 0.08247513,\n",
       "        0.11395359, 0.13512261, 0.08087631, 0.08518168, 0.08830462],\n",
       "       [0.04709752, 0.1076405 , 0.07819695, 0.0875932 , 0.09519896,\n",
       "        0.13527952, 0.1737516 , 0.092292  , 0.07867856, 0.10427125],\n",
       "       [0.06955547, 0.1141874 , 0.07842924, 0.09880326, 0.08553531,\n",
       "        0.11085076, 0.22590373, 0.05134122, 0.07774995, 0.08764363],\n",
       "       [0.02715716, 0.1034856 , 0.05473538, 0.10893284, 0.09759236,\n",
       "        0.14507112, 0.17141706, 0.07723405, 0.05568964, 0.15868479],\n",
       "       [0.05162489, 0.12910956, 0.08975126, 0.17195965, 0.08510312,\n",
       "        0.09597514, 0.1316842 , 0.07440825, 0.06942949, 0.10095441],\n",
       "       [0.06685895, 0.09777754, 0.07634982, 0.12496367, 0.15943971,\n",
       "        0.11686736, 0.14301969, 0.05641915, 0.09180665, 0.06649742],\n",
       "       [0.06614082, 0.17124711, 0.06834859, 0.10430599, 0.07857473,\n",
       "        0.12981923, 0.14776233, 0.07661894, 0.07613867, 0.08104369],\n",
       "       [0.04521246, 0.08296483, 0.10681698, 0.12344498, 0.07958885,\n",
       "        0.10265982, 0.16438739, 0.07619673, 0.08334115, 0.13538684],\n",
       "       [0.04291893, 0.1195294 , 0.09930608, 0.1093805 , 0.12920071,\n",
       "        0.14518318, 0.09834275, 0.05549537, 0.07097821, 0.12966491],\n",
       "       [0.0311166 , 0.08525892, 0.1238865 , 0.09964528, 0.06004101,\n",
       "        0.12705119, 0.25966868, 0.04301811, 0.06084265, 0.10947102],\n",
       "       [0.02803114, 0.13096099, 0.09782191, 0.11554482, 0.07661802,\n",
       "        0.11124098, 0.1875894 , 0.03905071, 0.10553032, 0.10761181],\n",
       "       [0.03101351, 0.09765901, 0.08006845, 0.09205485, 0.06716   ,\n",
       "        0.13545893, 0.12867828, 0.07141846, 0.10391755, 0.19257098],\n",
       "       [0.04122974, 0.12187617, 0.07213312, 0.1433895 , 0.14689955,\n",
       "        0.11921199, 0.09357302, 0.07169   , 0.06696145, 0.12303557],\n",
       "       [0.05875506, 0.10870908, 0.07183715, 0.0924385 , 0.08723298,\n",
       "        0.1682386 , 0.11016684, 0.07309572, 0.06487076, 0.1646553 ],\n",
       "       [0.08684975, 0.1903064 , 0.03950058, 0.09685905, 0.08228521,\n",
       "        0.0913244 , 0.21503964, 0.082793  , 0.07479449, 0.04024747],\n",
       "       [0.09723569, 0.11389773, 0.07430518, 0.12583655, 0.11125451,\n",
       "        0.09034366, 0.11381526, 0.088081  , 0.08702272, 0.09820772],\n",
       "       [0.05630673, 0.08608468, 0.08201884, 0.10816185, 0.10444955,\n",
       "        0.11324747, 0.12697522, 0.11274633, 0.08877204, 0.12123723],\n",
       "       [0.04729974, 0.12322235, 0.08931267, 0.09777531, 0.14954028,\n",
       "        0.09770256, 0.1667164 , 0.0744155 , 0.06008458, 0.09393062],\n",
       "       [0.06990505, 0.11679388, 0.09243406, 0.1082321 , 0.08234285,\n",
       "        0.13159633, 0.09589457, 0.09314279, 0.09345791, 0.11620044],\n",
       "       [0.06026928, 0.1007577 , 0.10579929, 0.06337345, 0.0742211 ,\n",
       "        0.18761897, 0.07878455, 0.09218958, 0.06403018, 0.17295595],\n",
       "       [0.05457661, 0.09433065, 0.08435484, 0.1224295 , 0.08278736,\n",
       "        0.13340494, 0.11569083, 0.08791937, 0.0739973 , 0.1505086 ],\n",
       "       [0.04078965, 0.12134455, 0.0801972 , 0.10127631, 0.06871065,\n",
       "        0.18366265, 0.14271474, 0.07246104, 0.07445097, 0.11439228],\n",
       "       [0.07218805, 0.10205398, 0.06930021, 0.0944805 , 0.174131  ,\n",
       "        0.11515728, 0.16667806, 0.05310977, 0.06648076, 0.08642044],\n",
       "       [0.03368071, 0.10787505, 0.12044363, 0.12146292, 0.10980104,\n",
       "        0.136783  , 0.0929785 , 0.07475662, 0.10158195, 0.10063656],\n",
       "       [0.03500833, 0.17594282, 0.03202745, 0.09861077, 0.05637433,\n",
       "        0.12033318, 0.2315063 , 0.07163424, 0.09660172, 0.08196076],\n",
       "       [0.05645149, 0.1398091 , 0.085704  , 0.14708358, 0.07083382,\n",
       "        0.08985037, 0.1593023 , 0.06732976, 0.07621756, 0.10741802],\n",
       "       [0.05332769, 0.0792692 , 0.10939751, 0.11407764, 0.09528226,\n",
       "        0.10477734, 0.12231018, 0.08477651, 0.06415773, 0.17262395],\n",
       "       [0.03265284, 0.19754802, 0.0737657 , 0.17214975, 0.10677759,\n",
       "        0.07044347, 0.10694376, 0.03631633, 0.07137678, 0.13202561],\n",
       "       [0.05196238, 0.11730665, 0.07164376, 0.1937782 , 0.08964479,\n",
       "        0.09476393, 0.11818493, 0.07851517, 0.05116817, 0.13303205],\n",
       "       [0.05983708, 0.11565495, 0.08529892, 0.10306717, 0.07461799,\n",
       "        0.14059913, 0.09907797, 0.08428835, 0.13278404, 0.10477438],\n",
       "       [0.07652537, 0.08741723, 0.08670779, 0.1138441 , 0.10732897,\n",
       "        0.11242695, 0.1092113 , 0.06014714, 0.10132683, 0.14506434],\n",
       "       [0.08284962, 0.16255407, 0.05024145, 0.08444976, 0.07934792,\n",
       "        0.123516  , 0.16830224, 0.09133738, 0.08653933, 0.07086223],\n",
       "       [0.08100035, 0.10606325, 0.1737768 , 0.09205076, 0.08885421,\n",
       "        0.10770988, 0.08678438, 0.03511267, 0.11566041, 0.11298724]],\n",
       "      dtype=float32)>"
      ]
     },
     "execution_count": 120,
     "metadata": {},
     "output_type": "execute_result"
    }
   ],
   "source": [
    "sub_model.call(image_batch)"
   ]
  },
  {
   "cell_type": "markdown",
   "metadata": {},
   "source": [
    "# Training Time"
   ]
  },
  {
   "cell_type": "code",
   "execution_count": 121,
   "metadata": {},
   "outputs": [],
   "source": [
    "sub_model.compile(optimizer='adam',\n",
    "              loss='sparse_categorical_crossentropy',\n",
    "              metrics=['accuracy'])"
   ]
  },
  {
   "cell_type": "code",
   "execution_count": null,
   "metadata": {},
   "outputs": [],
   "source": []
  },
  {
   "cell_type": "code",
   "execution_count": 125,
   "metadata": {},
   "outputs": [
    {
     "name": "stdout",
     "output_type": "stream",
     "text": [
      "64/64 [==============================] - 0s 2ms/sample - loss: 2.4067 - accuracy: 0.0312\n",
      "\n",
      "Loss before training: 2.407\n",
      "Accuracy before training: 3.125%\n"
     ]
    }
   ],
   "source": [
    "for image_batch, label_batch in training_batches.take(1):\n",
    "    loss, accuracy = sub_model.evaluate(image_batch, label_batch)\n",
    "\n",
    "print('\\nLoss before training: {:,.3f}'.format(loss))\n",
    "print('Accuracy before training: {:.3%}'.format(accuracy))"
   ]
  },
  {
   "cell_type": "code",
   "execution_count": 127,
   "metadata": {},
   "outputs": [
    {
     "name": "stdout",
     "output_type": "stream",
     "text": [
      "Epoch 1/5\n",
      "938/938 [==============================] - 33s 35ms/step - loss: 0.2607 - accuracy: 0.9250\n",
      "Epoch 2/5\n",
      "938/938 [==============================] - 44s 46ms/step - loss: 0.1088 - accuracy: 0.9681\n",
      "Epoch 3/5\n",
      "938/938 [==============================] - 33s 36ms/step - loss: 0.0739 - accuracy: 0.9777\n",
      "Epoch 4/5\n",
      "938/938 [==============================] - 24s 26ms/step - loss: 0.0530 - accuracy: 0.9838\n",
      "Epoch 5/5\n",
      "938/938 [==============================] - 27s 29ms/step - loss: 0.0397 - accuracy: 0.9881\n"
     ]
    }
   ],
   "source": [
    "EPOCHS = 5\n",
    "\n",
    "history = sub_model.fit(training_batches, epochs = EPOCHS)"
   ]
  },
  {
   "cell_type": "code",
   "execution_count": 129,
   "metadata": {},
   "outputs": [
    {
     "name": "stdout",
     "output_type": "stream",
     "text": [
      "64/64 [==============================] - 0s 148us/sample - loss: 0.0211 - accuracy: 0.9844\n",
      "0.0211458383128047 0.984375\n"
     ]
    }
   ],
   "source": [
    "for image_batch, label_batch in training_batches.take(1):\n",
    "    loss, acc = sub_model.evaluate(image_batch, label_batch)\n",
    "    \n",
    "print(loss, acc)"
   ]
  },
  {
   "cell_type": "code",
   "execution_count": 130,
   "metadata": {},
   "outputs": [],
   "source": [
    "for image, label in training_batches.take(1):\n",
    "    ps = sub_model.predict(image)\n",
    "    first_image = image.numpy().squeeze()[0]"
   ]
  },
  {
   "cell_type": "code",
   "execution_count": 138,
   "metadata": {},
   "outputs": [
    {
     "data": {
      "image/png": "[encoded data removed]",
      "text/plain": [
       "<Figure size 648x432 with 2 Axes>"
      ]
     },
     "metadata": {
      "needs_background": "light"
     },
     "output_type": "display_data"
    }
   ],
   "source": [
    "fig, ax = plt.subplots(figsize=(9,6), ncols=2)\n",
    "ax[0].imshow(first_image)\n",
    "ax[1].barh(np.arange(len(ps[0])), ps[0])\n",
    "ax[1].set_yticks(np.arange(10))\n",
    "ax[1].set_title(\"class probs\")\n",
    "plt.show()"
   ]
  },
  {
   "cell_type": "code",
   "execution_count": null,
   "metadata": {},
   "outputs": [],
   "source": []
  },
  {
   "cell_type": "code",
   "execution_count": null,
   "metadata": {},
   "outputs": [],
   "source": []
  }
 ],
 "metadata": {
  "kernelspec": {
   "display_name": "Python 3",
   "language": "python",
   "name": "python3"
  },
  "language_info": {
   "codemirror_mode": {
    "name": "ipython",
    "version": 3
   },
   "file_extension": ".py",
   "mimetype": "text/x-python",
   "name": "python",
   "nbconvert_exporter": "python",
   "pygments_lexer": "ipython3",
   "version": "3.7.4"
  }
 },
 "nbformat": 4,
 "nbformat_minor": 4
}
